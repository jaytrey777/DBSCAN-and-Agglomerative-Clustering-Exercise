{
 "cells": [
  {
   "cell_type": "markdown",
   "id": "cb05eecb",
   "metadata": {
    "heading_collapsed": true
   },
   "source": [
    "# Tasks:"
   ]
  },
  {
   "cell_type": "markdown",
   "id": "6097286d",
   "metadata": {
    "hidden": true
   },
   "source": [
    "- Create moons with the sklearn.datasets.make_moons() function.\n",
    "- Remember to scale the data.\n",
    "- Cluster the data with DBSCAN.\n",
    "- Set min_samples=30.\n",
    "- Use the NearestNeighbors class to determine a good value for 'eps'.\n",
    "- Create a DBSCAN model and fit it to the data.\n",
    "- Plot the resulting clusters.\n",
    "- Cluster the data using Agglomerative Clustering.\n",
    "- Create a dendrogram and find where the average length of the vertical lines is the longest.\n",
    "- Create and fit an Agglomerative Clustering model on the data.\n",
    "- Plot the resulting clusters.\n"
   ]
  },
  {
   "cell_type": "markdown",
   "id": "bf562830",
   "metadata": {
    "heading_collapsed": true
   },
   "source": [
    "# Imports"
   ]
  },
  {
   "cell_type": "code",
   "execution_count": null,
   "id": "187e6770",
   "metadata": {
    "hidden": true
   },
   "outputs": [],
   "source": [
    "import numpy as np\n",
    "import matplotlib.pyplot as plt\n",
    "\n",
    "from sklearn.preprocessing import StandardScaler\n",
    "from sklearn.cluster import DBSCAN, AgglomerativeClustering\n",
    "from sklearn.neighbors import NearestNeighbors\n",
    "\n",
    "import scipy.cluster.hierarchy as sch\n",
    "\n",
    "from sklearn.datasets import make_moons"
   ]
  },
  {
   "cell_type": "markdown",
   "id": "54142f39",
   "metadata": {
    "heading_collapsed": true
   },
   "source": [
    "# Create Data"
   ]
  },
  {
   "cell_type": "markdown",
   "id": "b69cd04e",
   "metadata": {
    "hidden": true
   },
   "source": [
    "### Code sample given below:"
   ]
  },
  {
   "cell_type": "code",
   "execution_count": null,
   "id": "45665392",
   "metadata": {
    "hidden": true
   },
   "outputs": [],
   "source": [
    "moons = make_moons(n_samples = 1000, noise=.1, random_state=42)[0]\n",
    "plt.scatter(moons[:,0], moons[:,1])"
   ]
  },
  {
   "cell_type": "markdown",
   "id": "2548af7b",
   "metadata": {
    "heading_collapsed": true
   },
   "source": [
    "# Scale Data"
   ]
  },
  {
   "cell_type": "code",
   "execution_count": null,
   "id": "277e1caa",
   "metadata": {
    "hidden": true
   },
   "outputs": [],
   "source": [
    "db_moons = StandardScaler().fit_transform(moons)"
   ]
  },
  {
   "cell_type": "markdown",
   "id": "a3d8c4a5",
   "metadata": {
    "heading_collapsed": true
   },
   "source": [
    "# DBSCAN"
   ]
  },
  {
   "cell_type": "markdown",
   "id": "d5c565fb",
   "metadata": {
    "hidden": true
   },
   "source": [
    "## Find a good value for epsilon "
   ]
  },
  {
   "cell_type": "code",
   "execution_count": null,
   "id": "b8e4e63d",
   "metadata": {
    "hidden": true
   },
   "outputs": [],
   "source": [
    "min_samples=30\n",
    "n_neighbors = NearestNeighbors(n_neighbors=min_samples)\n",
    "n_neighbors.fit(moons)\n",
    "distances, indices= n_neighbors.kneighbors(moons)\n",
    "distances[:5]"
   ]
  },
  {
   "cell_type": "code",
   "execution_count": null,
   "id": "a6916679",
   "metadata": {
    "hidden": true
   },
   "outputs": [],
   "source": [
    "sorted_distances = np.sort(distances[:, min_samples-1])\n",
    "sorted_distances[:5]"
   ]
  },
  {
   "cell_type": "code",
   "execution_count": null,
   "id": "fbe874c3",
   "metadata": {
    "hidden": true
   },
   "outputs": [],
   "source": [
    "plt.plot(sorted_distances)\n",
    "plt.grid();"
   ]
  },
  {
   "cell_type": "markdown",
   "id": "4859fb72",
   "metadata": {
    "hidden": true
   },
   "source": [
    "for min_samples = 30, it looks like 0.21 might be a good epsilon, as the elbow seems to begin there.\n"
   ]
  },
  {
   "cell_type": "code",
   "execution_count": null,
   "id": "54fbaa90",
   "metadata": {
    "hidden": true
   },
   "outputs": [],
   "source": [
    "dbs = DBSCAN(min_samples=min_samples, eps=0.21)\n",
    "dbs.fit(moons)\n",
    "plt.scatter(moons[:,0], moons[:,1], c=dbs.labels_)"
   ]
  },
  {
   "cell_type": "markdown",
   "id": "7fcf30b0",
   "metadata": {
    "hidden": true
   },
   "source": [
    "The clustering is not perfect and there are a few samples assigned to the 'noise' cluster."
   ]
  },
  {
   "cell_type": "markdown",
   "id": "2396842d",
   "metadata": {
    "heading_collapsed": true
   },
   "source": [
    "# Visualize Dendrogram\n"
   ]
  },
  {
   "cell_type": "code",
   "execution_count": null,
   "id": "69ee91ba",
   "metadata": {
    "hidden": true
   },
   "outputs": [],
   "source": [
    "plt.figure(figsize = (15, 5))\n",
    "sch.dendrogram(sch.linkage(moons, method = 'ward'))\n",
    "plt.xlabel('Data Points');"
   ]
  },
  {
   "cell_type": "markdown",
   "id": "9d5acafd",
   "metadata": {
    "hidden": true
   },
   "source": [
    "It looks like the best number of clusters would is 2, because that's where the vertical lines average the longest."
   ]
  },
  {
   "cell_type": "code",
   "execution_count": null,
   "id": "d0eeec64",
   "metadata": {
    "hidden": true
   },
   "outputs": [],
   "source": [
    "agg = AgglomerativeClustering(n_clusters=2)\n",
    "agg.fit(moons)\n",
    "\n",
    "plt.scatter(moons[:,0], moons[:,1], c=agg.labels_);"
   ]
  },
  {
   "cell_type": "markdown",
   "id": "57142ec8",
   "metadata": {
    "hidden": true
   },
   "source": [
    "Agglomerative clustering seems to have assigned half of the moon on the left to the cluster on the right.\n",
    "\n"
   ]
  },
  {
   "cell_type": "code",
   "execution_count": null,
   "id": "243b57c2",
   "metadata": {
    "hidden": true
   },
   "outputs": [],
   "source": []
  }
 ],
 "metadata": {
  "kernelspec": {
   "display_name": "Python (dojo-env)",
   "language": "python",
   "name": "dojo-env"
  },
  "language_info": {
   "codemirror_mode": {
    "name": "ipython",
    "version": 3
   },
   "file_extension": ".py",
   "mimetype": "text/x-python",
   "name": "python",
   "nbconvert_exporter": "python",
   "pygments_lexer": "ipython3",
   "version": "3.9.15"
  },
  "toc": {
   "base_numbering": 1,
   "nav_menu": {},
   "number_sections": false,
   "sideBar": true,
   "skip_h1_title": false,
   "title_cell": "Table of Contents",
   "title_sidebar": "Contents",
   "toc_cell": false,
   "toc_position": {},
   "toc_section_display": true,
   "toc_window_display": false
  }
 },
 "nbformat": 4,
 "nbformat_minor": 5
}
